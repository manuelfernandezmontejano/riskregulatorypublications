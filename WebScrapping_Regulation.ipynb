{
  "nbformat": 4,
  "nbformat_minor": 0,
  "metadata": {
    "colab": {
      "provenance": [],
      "authorship_tag": "ABX9TyOXQUOMFRL3rG5GYI6zeoK3",
      "include_colab_link": true
    },
    "kernelspec": {
      "name": "python3",
      "display_name": "Python 3"
    },
    "language_info": {
      "name": "python"
    }
  },
  "cells": [
    {
      "cell_type": "markdown",
      "metadata": {
        "id": "view-in-github",
        "colab_type": "text"
      },
      "source": [
        "<a href=\"https://colab.research.google.com/github/manuelfernandezmontejano/riskregulatorypublications/blob/main/WebScrapping_Regulation.ipynb\" target=\"_parent\"><img src=\"https://colab.research.google.com/assets/colab-badge.svg\" alt=\"Open In Colab\"/></a>"
      ]
    },
    {
      "cell_type": "code",
      "execution_count": 77,
      "metadata": {
        "id": "N_gJTJ9W82zU",
        "colab": {
          "base_uri": "https://localhost:8080/"
        },
        "outputId": "b9ba16f0-bc9d-42fa-fa83-8cd8ec3a7ae3"
      },
      "outputs": [
        {
          "output_type": "stream",
          "name": "stdout",
          "text": [
            "\r0% [Working]\r            \rGet:1 http://security.ubuntu.com/ubuntu jammy-security InRelease [129 kB]\n",
            "\r0% [Connecting to archive.ubuntu.com] [1 InRelease 14.2 kB/129 kB 11%] [Connected to cloud.r-project\r                                                                                                    \rHit:2 https://developer.download.nvidia.com/compute/cuda/repos/ubuntu2204/x86_64  InRelease\n",
            "Hit:3 https://cloud.r-project.org/bin/linux/ubuntu jammy-cran40/ InRelease\n",
            "Get:4 https://r2u.stat.illinois.edu/ubuntu jammy InRelease [6,555 B]\n",
            "Hit:5 http://archive.ubuntu.com/ubuntu jammy InRelease\n",
            "Get:6 http://archive.ubuntu.com/ubuntu jammy-updates InRelease [128 kB]\n",
            "Get:7 https://r2u.stat.illinois.edu/ubuntu jammy/main all Packages [8,705 kB]\n",
            "Hit:8 http://archive.ubuntu.com/ubuntu jammy-backports InRelease\n",
            "Get:9 https://r2u.stat.illinois.edu/ubuntu jammy/main amd64 Packages [2,662 kB]\n",
            "Hit:10 https://ppa.launchpadcontent.net/deadsnakes/ppa/ubuntu jammy InRelease\n",
            "Hit:11 https://ppa.launchpadcontent.net/graphics-drivers/ppa/ubuntu jammy InRelease\n",
            "Hit:12 https://ppa.launchpadcontent.net/ubuntugis/ppa/ubuntu jammy InRelease\n",
            "Fetched 11.6 MB in 2s (6,118 kB/s)\n",
            "Reading package lists... Done\n",
            "W: Skipping acquire of configured file 'main/source/Sources' as repository 'https://r2u.stat.illinois.edu/ubuntu jammy InRelease' does not seem to provide it (sources.list entry misspelt?)\n",
            "Reading package lists... Done\n",
            "Building dependency tree... Done\n",
            "Reading state information... Done\n",
            "wkhtmltopdf is already the newest version (0.12.6-2).\n",
            "0 upgraded, 0 newly installed, 0 to remove and 33 not upgraded.\n",
            "/usr/bin/wkhtmltopdf\n",
            "Requirement already satisfied: pdfkit in /usr/local/lib/python3.11/dist-packages (1.0.0)\n",
            "Requirement already satisfied: filestack-python in /usr/local/lib/python3.11/dist-packages (4.0.0)\n",
            "Requirement already satisfied: requests>=2.31.0 in /usr/local/lib/python3.11/dist-packages (from filestack-python) (2.32.3)\n",
            "Requirement already satisfied: trafaret==2.0.2 in /usr/local/lib/python3.11/dist-packages (from filestack-python) (2.0.2)\n",
            "Requirement already satisfied: charset-normalizer<4,>=2 in /usr/local/lib/python3.11/dist-packages (from requests>=2.31.0->filestack-python) (3.4.1)\n",
            "Requirement already satisfied: idna<4,>=2.5 in /usr/local/lib/python3.11/dist-packages (from requests>=2.31.0->filestack-python) (3.10)\n",
            "Requirement already satisfied: urllib3<3,>=1.21.1 in /usr/local/lib/python3.11/dist-packages (from requests>=2.31.0->filestack-python) (2.3.0)\n",
            "Requirement already satisfied: certifi>=2017.4.17 in /usr/local/lib/python3.11/dist-packages (from requests>=2.31.0->filestack-python) (2025.1.31)\n"
          ]
        }
      ],
      "source": [
        "# Importa las bibliotecas necesarias\n",
        "!apt-get update\n",
        "!apt-get install -y wkhtmltopdf\n",
        "!which wkhtmltopdf\n",
        "!pip install pdfkit\n",
        "!pip install filestack-python\n",
        "import requests\n",
        "from bs4 import BeautifulSoup\n",
        "import os\n",
        "import re\n",
        "import pdfkit\n",
        "import smtplib\n",
        "from email.mime.multipart import MIMEMultipart\n",
        "from email.mime.text import MIMEText\n",
        "from email.mime.base import MIMEBase\n",
        "from email import encoders\n",
        "import filestack\n",
        "import smtplib\n",
        "from email.mime.multipart import MIMEMultipart\n",
        "from email.mime.text import MIMEText\n",
        "from email.mime.base import MIMEBase\n",
        "from email import encoders\n",
        "import time"
      ]
    },
    {
      "cell_type": "code",
      "source": [
        "# Define un diccionario con los publicadores y sus enlaces\n",
        "enlaces_publicadores = {\n",
        "  \"ECB\": \"https://www.bankingsupervision.europa.eu/home/html/index.en.html\",\n",
        "  \"BCBS publications\": \"https://www.bis.org/bcbs/index.htm\",\n",
        "  \"FSB publications\": \"https://www.fsb.org/\",\n",
        "  \"EBA press release\": \"https://www.eba.europa.eu/publications-and-media/press-releases\",\n",
        "  \"CNMV sala de prensa\": \"https://www.cnmv.es/portal/AlDia/Comunicaciones-Publicas\",\n",
        "  \"ESMA press release\": \"https://www.esma.europa.eu/press-news/press-releases\",\n",
        "  \"BdE publicaciones\": \"https://www.bde.es/wbe/es/publicaciones/\",\n",
        "  \"BdE noticias\": \"https://www.bde.es/wbe/es/noticias-eventos/\",\n",
        "  \"DG FISMA latest\": \"https://commission.europa.eu/about/departments-and-executive-agencies/financial-stability-financial-services-and-capital-markets-union_en\",\n",
        "  \"DOUE legislacion\": \"https://eur-lex.europa.eu/oj/direct-access.html?locale=es\",\n",
        "  \"PRA news and publications\": \"https://www.bankofengland.co.uk/news\",\n",
        "  \"EFRAG updates\": \"https://www.efrag.org/en/updates\",\n",
        "  \"FRB news\": \"https://www.federalreserve.gov/newsevents.htm\",\n",
        "  \"ESG today\": \"https://www.esgtoday.com/category/business-wire/\"\n",
        "}"
      ],
      "metadata": {
        "id": "4-AR6lDT-xuZ"
      },
      "execution_count": 78,
      "outputs": []
    },
    {
      "cell_type": "code",
      "source": [
        "# Crea una carpeta para guardar los resultados\n",
        "if not os.path.exists(\"resultados\"):\n",
        "    os.makedirs(\"resultados\")"
      ],
      "metadata": {
        "id": "lUmzdYWVAjKs"
      },
      "execution_count": 79,
      "outputs": []
    },
    {
      "cell_type": "code",
      "source": [
        "# Recorre el diccionario y hace web scraping de cada página\n",
        "for publicador, enlace in enlaces_publicadores.items():\n",
        "    print(f\"Procesando: {publicador} - {enlace}\")\n",
        "\n",
        "    try:\n",
        "        # Obtener contenido de la página\n",
        "        respuesta = requests.get(enlace, timeout=10)\n",
        "\n",
        "        # Verificar si la respuesta es exitosa (código 200)\n",
        "        if respuesta.status_code != 200:\n",
        "            print(f\"Error {respuesta.status_code} al obtener {publicador}\")\n",
        "            continue\n",
        "\n",
        "        # Analizar el HTML\n",
        "        soup = BeautifulSoup(respuesta.text, \"html.parser\")\n",
        "\n",
        "        # Extraer solo el texto sin HTML\n",
        "        contenido = soup.get_text(separator=\"\\n\", strip=True)\n",
        "\n",
        "        # Formatear nombre de archivo\n",
        "        nombre_archivo = re.sub(r\"[^a-zA-Z0-9]\", \"_\", publicador) + \".txt\"\n",
        "        ruta_archivo = os.path.join(\"resultados\", nombre_archivo)\n",
        "\n",
        "        # Guardar en archivo con encabezado\n",
        "        with open(ruta_archivo, \"w\", encoding=\"utf-8\") as archivo:\n",
        "            archivo.write(f\"{publicador} ({enlace})\\n\\n\")\n",
        "            archivo.write(contenido)\n",
        "\n",
        "        print(f\"Guardado: {ruta_archivo}\")\n",
        "\n",
        "    except requests.RequestException as e:\n",
        "        print(f\"Error al procesar {publicador}: {e}\")\n",
        "\n",
        "print(\"Proceso finalizado.\")"
      ],
      "metadata": {
        "colab": {
          "base_uri": "https://localhost:8080/"
        },
        "id": "cQ2uhOVRAj1w",
        "outputId": "84df0c33-8b84-4153-ab1e-c80e377d80e1"
      },
      "execution_count": 80,
      "outputs": [
        {
          "output_type": "stream",
          "name": "stdout",
          "text": [
            "Procesando: ECB - https://www.bankingsupervision.europa.eu/home/html/index.en.html\n",
            "Guardado: resultados/ECB.txt\n",
            "Procesando: BCBS publications - https://www.bis.org/bcbs/index.htm\n",
            "Guardado: resultados/BCBS_publications.txt\n",
            "Procesando: FSB publications - https://www.fsb.org/\n",
            "Guardado: resultados/FSB_publications.txt\n",
            "Procesando: EBA press release - https://www.eba.europa.eu/publications-and-media/press-releases\n",
            "Guardado: resultados/EBA_press_release.txt\n",
            "Procesando: CNMV sala de prensa - https://www.cnmv.es/portal/AlDia/Comunicaciones-Publicas\n",
            "Guardado: resultados/CNMV_sala_de_prensa.txt\n",
            "Procesando: ESMA press release - https://www.esma.europa.eu/press-news/press-releases\n",
            "Guardado: resultados/ESMA_press_release.txt\n",
            "Procesando: BdE publicaciones - https://www.bde.es/wbe/es/publicaciones/\n",
            "Guardado: resultados/BdE_publicaciones.txt\n",
            "Procesando: BdE noticias - https://www.bde.es/wbe/es/noticias-eventos/\n",
            "Guardado: resultados/BdE_noticias.txt\n",
            "Procesando: DG FISMA latest - https://commission.europa.eu/about/departments-and-executive-agencies/financial-stability-financial-services-and-capital-markets-union_en\n",
            "Guardado: resultados/DG_FISMA_latest.txt\n",
            "Procesando: DOUE legislacion - https://eur-lex.europa.eu/oj/direct-access.html?locale=es\n",
            "Guardado: resultados/DOUE_legislacion.txt\n",
            "Procesando: PRA news and publications - https://www.bankofengland.co.uk/news\n",
            "Error 403 al obtener PRA news and publications\n",
            "Procesando: EFRAG updates - https://www.efrag.org/en/updates\n",
            "Guardado: resultados/EFRAG_updates.txt\n",
            "Procesando: FRB news - https://www.federalreserve.gov/newsevents.htm\n",
            "Guardado: resultados/FRB_news.txt\n",
            "Procesando: ESG today - https://www.esgtoday.com/category/business-wire/\n",
            "Error 403 al obtener ESG today\n",
            "Proceso finalizado.\n"
          ]
        }
      ]
    },
    {
      "cell_type": "code",
      "source": [
        "# Combina los archivos de texto en un solo archivo HTML\n",
        "html_combinado = \"\"\n",
        "for nombre_archivo in os.listdir(\"resultados\"):\n",
        "    if nombre_archivo.endswith(\".txt\"):\n",
        "        publicador = nombre_archivo[:-4].replace(\"_\", \" \")\n",
        "        enlace = enlaces_publicadores.get(publicador, \"\")  # Obtiene el enlace del diccionario\n",
        "        ruta_archivo = os.path.join(\"resultados\", nombre_archivo)\n",
        "        with open(ruta_archivo, \"r\", encoding=\"utf-8\") as archivo:\n",
        "            # Incluye el publicador y el enlace en el título\n",
        "            html_combinado += f\"<h1>{publicador} ({enlace})</h1>\\n\"\n",
        "            html_combinado += f\"<p>{archivo.read()}</p>\\n\"\n",
        "\n",
        "# Guarda el HTML combinado en un archivo\n",
        "with open(\"resultados/combinado.html\", \"w\", encoding=\"utf-8\") as archivo:\n",
        "    archivo.write(html_combinado)"
      ],
      "metadata": {
        "id": "YZNjn8ItAnkI"
      },
      "execution_count": 81,
      "outputs": []
    },
    {
      "cell_type": "code",
      "source": [
        "config = pdfkit.configuration(wkhtmltopdf='/usr/bin/wkhtmltopdf')  # Changed path to where wkhtmltopdf is actually located\n",
        "pdfkit.from_file(\"resultados/combinado.html\", \"resultados/combinado.pdf\", configuration=config)"
      ],
      "metadata": {
        "colab": {
          "base_uri": "https://localhost:8080/"
        },
        "id": "wPxaJeGxDrjO",
        "outputId": "b8cc81c8-ecc9-4783-9287-490d21dc52b8"
      },
      "execution_count": 82,
      "outputs": [
        {
          "output_type": "execute_result",
          "data": {
            "text/plain": [
              "True"
            ]
          },
          "metadata": {},
          "execution_count": 82
        }
      ]
    },
    {
      "cell_type": "code",
      "source": [
        "def send_pdf_via_filestack(pdf_path):\n",
        "    \"\"\"\n",
        "    Uploads the PDF to Filestack and returns the public link.\n",
        "\n",
        "    Args:\n",
        "        pdf_path: Path to the PDF file.\n",
        "\n",
        "    Returns:\n",
        "        public_url: Public URL of the uploaded file.\n",
        "    \"\"\"\n",
        "    import filestack\n",
        "\n",
        "    # Reemplaza con tu clave de API de Filestack\n",
        "    client = filestack.Client('A3Yi51FVPSASBv8QXS16Ez')\n",
        "\n",
        "    # Subir el archivo\n",
        "    filelink = client.upload(filepath=pdf_path)\n",
        "\n",
        "    # Obtener el enlace público\n",
        "    public_url = filelink.url\n",
        "\n",
        "    print(f\"Public link to PDF: {public_url}\")\n",
        "\n",
        "    return public_url  # Retorna el enlace\n",
        "\n",
        "\n",
        "def send_pdf_via_email(pdf_path, email_address, sender_email, sender_password, public_url=None):\n",
        "    \"\"\"\n",
        "    Sends the PDF as an email attachment or includes a Filestack link.\n",
        "\n",
        "    Args:\n",
        "        pdf_path: Path to the PDF file.\n",
        "        email_address: Recipient's email address.\n",
        "        sender_email: Sender's email address.\n",
        "        sender_password: Sender's email password.\n",
        "        public_url: Optional public link to the PDF file.\n",
        "    \"\"\"\n",
        "    import smtplib\n",
        "    from email.mime.multipart import MIMEMultipart\n",
        "    from email.mime.text import MIMEText\n",
        "    from email.mime.base import MIMEBase\n",
        "    from email import encoders\n",
        "\n",
        "    msg = MIMEMultipart()\n",
        "    msg['Subject'] = \"Regulatory Updates PDF\"\n",
        "    msg['From'] = sender_email\n",
        "    msg['To'] = email_address\n",
        "\n",
        "    # Mensaje de correo con enlace de Filestack (si existe)\n",
        "    html = f\"\"\"\\\n",
        "    <html>\n",
        "      <head></head>\n",
        "      <body>\n",
        "        <p>Please find the attached Regulatory Updates PDF.</p>\n",
        "        {\"<p>Download it from: <a href='\" + public_url + \"'>this link</a></p>\" if public_url else \"\"}\n",
        "      </body>\n",
        "    </html>\n",
        "    \"\"\"\n",
        "\n",
        "    msg.attach(MIMEText(html, 'html'))\n",
        "\n",
        "    # Adjuntar el PDF solo si no hay un link de Filestack\n",
        "    if not public_url:\n",
        "        with open(pdf_path, \"rb\") as attachment:\n",
        "            part = MIMEBase('application', 'octet-stream')\n",
        "            part.set_payload(attachment.read())\n",
        "            encoders.encode_base64(part)\n",
        "            part.add_header('Content-Disposition', f\"attachment; filename= {pdf_path}\")\n",
        "            msg.attach(part)\n",
        "\n",
        "    # Enviar correo\n",
        "    with smtplib.SMTP_SSL('smtp.gmail.com', 465) as server:\n",
        "        server.login(sender_email, sender_password)\n",
        "        server.sendmail(sender_email, email_address, msg.as_string())\n",
        "\n",
        "    print(f\"Email sent to {email_address}\")\n",
        "\n",
        "\n",
        "# **Ejemplo de uso corregido**\n",
        "pdf_path = \"resultados/combinado.pdf\"  # Ruta del PDF generado\n",
        "recipient_email = \"manuel.fernandez.montejano@bbva.com\"\n",
        "sender_email = \"manuel.fernandez.montejano@bbva.com\"\n",
        "sender_password = \"hehrjrdxzdsgunnl\"\n",
        "\n",
        "# Subir a Filestack y obtener enlace\n",
        "public_url = send_pdf_via_filestack(pdf_path)\n",
        "\n",
        "# Enviar email con adjunto y/o enlace de Filestack\n",
        "send_pdf_via_email(pdf_path, recipient_email, sender_email, sender_password, public_url)\n"
      ],
      "metadata": {
        "colab": {
          "base_uri": "https://localhost:8080/"
        },
        "id": "mNmyKGUhAtYm",
        "outputId": "e1ff9b02-8e13-404b-b748-ffe5d6cd4a19"
      },
      "execution_count": 83,
      "outputs": [
        {
          "output_type": "stream",
          "name": "stdout",
          "text": [
            "Public link to PDF: https://cdn.filestackcontent.com/rzjg19kVQaCTdW4g6Ihp\n",
            "Email sent to manuel.fernandez.montejano@bbva.com\n"
          ]
        }
      ]
    }
  ]
}